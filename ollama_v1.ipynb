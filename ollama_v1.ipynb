{
 "cells": [
  {
   "cell_type": "code",
   "execution_count": 2,
   "metadata": {},
   "outputs": [
    {
     "name": "stdout",
     "output_type": "stream",
     "text": [
      "The sky appears blue because of a phenomenon called Rayleigh scattering, named after the British physicist Lord Rayleigh. He discovered that when sunlight enters Earth's atmosphere, it encounters tiny molecules of gases such as nitrogen and oxygen.\n",
      "\n",
      "Here's what happens:\n",
      "\n",
      "1. Sunlight, which is made up of different colors (known as a spectrum), passes through the atmosphere.\n",
      "2. The shorter wavelengths of light, such as blue and violet, are scattered more than the longer wavelengths by the tiny molecules in the air.\n",
      "3. This scattering effect occurs because the smaller molecules are more effective at deflecting the shorter wavelengths of light.\n",
      "\n",
      "As a result, when we look up at the sky, we see mostly the blue light that has been scattered in all directions by the atmosphere. The other colors, like red and orange, are less visible to us because they have longer wavelengths that are not as easily scattered.\n",
      "\n",
      "However, it's worth noting that the color of the sky can change depending on the time of day, weather conditions, and atmospheric pollutants. For example:\n",
      "\n",
      "* During sunrise and sunset, the sky can take on hues of red, orange, and pink due to the scattering of light by atmospheric particles.\n",
      "* On cloudy days, the sky may appear gray or white because the clouds absorb and scatter light in different ways.\n",
      "* In areas with high levels of air pollution, the sky can appear more hazy or brownish due to the presence of aerosols.\n",
      "\n",
      "But on a clear day, when there's little to no atmospheric interference, the sky typically appears blue!\n",
      "The sky appears blue because of a phenomenon called Rayleigh scattering, named after the British physicist Lord Rayleigh. He discovered that when sunlight enters Earth's atmosphere, it encounters tiny molecules of gases such as nitrogen and oxygen.\n",
      "\n",
      "Here's what happens:\n",
      "\n",
      "1. Sunlight, which is made up of different colors (known as a spectrum), passes through the atmosphere.\n",
      "2. The shorter wavelengths of light, such as blue and violet, are scattered more than the longer wavelengths by the tiny molecules in the air.\n",
      "3. This scattering effect occurs because the smaller molecules are more effective at deflecting the shorter wavelengths of light.\n",
      "\n",
      "As a result, when we look up at the sky, we see mostly the blue light that has been scattered in all directions by the atmosphere. The other colors, like red and orange, are less visible to us because they have longer wavelengths that are not as easily scattered.\n",
      "\n",
      "However, it's worth noting that the color of the sky can change depending on the time of day, weather conditions, and atmospheric pollutants. For example:\n",
      "\n",
      "* During sunrise and sunset, the sky can take on hues of red, orange, and pink due to the scattering of light by atmospheric particles.\n",
      "* On cloudy days, the sky may appear gray or white because the clouds absorb and scatter light in different ways.\n",
      "* In areas with high levels of air pollution, the sky can appear more hazy or brownish due to the presence of aerosols.\n",
      "\n",
      "But on a clear day, when there's little to no atmospheric interference, the sky typically appears blue!\n"
     ]
    }
   ],
   "source": [
    "from ollama import chat\n",
    "from ollama import ChatResponse\n",
    "\n",
    "response: ChatResponse = chat(model='llama3.2', messages=[\n",
    "  {\n",
    "    'role': 'user',\n",
    "    'content': 'Why is the sky blue?',\n",
    "  },\n",
    "])\n",
    "print(response['message']['content'])\n",
    "# or access fields directly from the response object\n",
    "print(response.message.content)"
   ]
  },
  {
   "cell_type": "markdown",
   "metadata": {},
   "source": [
    " ref - https://medium.com/@lifanov.a.v/integrating-langgraph-with-ollama-for-advanced-llm-applications-d6c10262dafa"
   ]
  },
  {
   "cell_type": "code",
   "execution_count": 3,
   "metadata": {},
   "outputs": [
    {
     "name": "stderr",
     "output_type": "stream",
     "text": [
      "/var/folders/6k/m4v5sk1n0d150v30knjkwb240000gn/T/ipykernel_14040/516121426.py:27: LangGraphDeprecationWarning: ToolExecutor is deprecated as of version 0.2.0 and will be removed in 0.3.0. Use langgraph.prebuilt.ToolNode instead.\n",
      "  tool_executor = ToolExecutor(tools)\n"
     ]
    }
   ],
   "source": [
    "import operator\n",
    "from datetime import datetime\n",
    "from typing import Annotated, TypedDict, Union\n",
    "\n",
    "from dotenv import load_dotenv\n",
    "from langchain import hub\n",
    "from langchain.agents import create_react_agent\n",
    "from langchain_community.chat_models import ChatOllama\n",
    "from langchain_core.agents import AgentAction, AgentFinish\n",
    "from langchain_core.messages import BaseMessage\n",
    "from langchain_core.tools import tool\n",
    "from langgraph.graph import END, StateGraph\n",
    "from langgraph.prebuilt import ToolExecutor, ToolInvocation\n",
    "\n",
    "load_dotenv()\n",
    "\n",
    "@tool\n",
    "def get_now(format: str = \"%Y-%m-%d %H:%M:%S\"):\n",
    "    \"\"\"\n",
    "    Get the current time\n",
    "    \"\"\"\n",
    "    return datetime.now().strftime(format)\n",
    "\n",
    "\n",
    "tools = [get_now]\n",
    "\n",
    "tool_executor = ToolExecutor(tools)"
   ]
  },
  {
   "cell_type": "code",
   "execution_count": 9,
   "metadata": {},
   "outputs": [
    {
     "name": "stderr",
     "output_type": "stream",
     "text": [
      "/Users/namrateshshrivastav/miniconda3/envs/llm/lib/python3.10/site-packages/langsmith/client.py:261: LangSmithMissingAPIKeyWarning: API key must be provided when using hosted LangSmith API\n",
      "  warnings.warn(\n"
     ]
    }
   ],
   "source": [
    "class AgentState(TypedDict):\n",
    "    input: str\n",
    "    chat_history: list[BaseMessage]\n",
    "    agent_outcome: Union[AgentAction, AgentFinish, None]\n",
    "    intermediate_steps: Annotated[list[tuple[AgentAction, str]], operator.add]\n",
    "\n",
    "\n",
    "model = ChatOllama(model=\"llama3.2\")\n",
    "prompt = hub.pull(\"hwchase17/react\")\n",
    "\n",
    "\n",
    "agent_runnable = create_react_agent(model, tools, prompt)"
   ]
  },
  {
   "cell_type": "code",
   "execution_count": 10,
   "metadata": {},
   "outputs": [],
   "source": [
    "def execute_tools(state):\n",
    "    print(\"Called `execute_tools`\")\n",
    "    messages = [state[\"agent_outcome\"]]\n",
    "    last_message = messages[-1]\n",
    "\n",
    "    tool_name = last_message.tool\n",
    "\n",
    "    print(f\"Calling tool: {tool_name}\")\n",
    "\n",
    "    action = ToolInvocation(\n",
    "        tool=tool_name,\n",
    "        tool_input=last_message.tool_input,\n",
    "    )\n",
    "    response = tool_executor.invoke(action)\n",
    "    return {\"intermediate_steps\": [(state[\"agent_outcome\"], response)]}\n",
    "\n",
    "\n",
    "def run_agent(state):\n",
    "    \"\"\"\n",
    "    #if you want to better manages intermediate steps\n",
    "    inputs = state.copy()\n",
    "    if len(inputs['intermediate_steps']) > 5:\n",
    "        inputs['intermediate_steps'] = inputs['intermediate_steps'][-5:]\n",
    "    \"\"\"\n",
    "    agent_outcome = agent_runnable.invoke(state)\n",
    "    return {\"agent_outcome\": agent_outcome}\n",
    "\n",
    "\n",
    "def should_continue(state):\n",
    "    messages = [state[\"agent_outcome\"]]\n",
    "    last_message = messages[-1]\n",
    "    if \"Action\" not in last_message.log:\n",
    "        return \"end\"\n",
    "    else:\n",
    "        return \"continue\""
   ]
  },
  {
   "cell_type": "code",
   "execution_count": 11,
   "metadata": {},
   "outputs": [],
   "source": [
    "workflow = StateGraph(AgentState)\n",
    "\n",
    "workflow.add_node(\"agent\", run_agent)\n",
    "workflow.add_node(\"action\", execute_tools)\n",
    "\n",
    "\n",
    "workflow.set_entry_point(\"agent\")\n",
    "\n",
    "workflow.add_conditional_edges(\n",
    "    \"agent\", should_continue, {\"continue\": \"action\", \"end\": END}\n",
    ")\n",
    "\n",
    "\n",
    "workflow.add_edge(\"action\", \"agent\")\n",
    "app = workflow.compile()\n",
    "\n",
    "input_text = \"Whats the current time?\""
   ]
  },
  {
   "cell_type": "code",
   "execution_count": 12,
   "metadata": {},
   "outputs": [
    {
     "name": "stdout",
     "output_type": "stream",
     "text": [
      "{'agent_outcome': AgentAction(tool='get_now', tool_input='', log='Action: get_now\\nAction Input: ')}\n",
      "Called `execute_tools`\n",
      "Calling tool: get_now\n",
      "{'intermediate_steps': [(AgentAction(tool='get_now', tool_input='', log='Action: get_now\\nAction Input: '), '')]}\n"
     ]
    },
    {
     "name": "stderr",
     "output_type": "stream",
     "text": [
      "/var/folders/6k/m4v5sk1n0d150v30knjkwb240000gn/T/ipykernel_14040/254441368.py:10: LangGraphDeprecationWarning: ToolInvocation is deprecated as of version 0.2.0 and will be removed in 0.3.0. Use langgraph.prebuilt.ToolNode instead.\n",
      "  action = ToolInvocation(\n"
     ]
    },
    {
     "name": "stdout",
     "output_type": "stream",
     "text": [
      "{'agent_outcome': AgentAction(tool='get_now', tool_input='', log='Question: Whats the current time?\\nThought: Action: get_now\\nAction Input: ')}\n",
      "Called `execute_tools`\n",
      "Calling tool: get_now\n",
      "{'intermediate_steps': [(AgentAction(tool='get_now', tool_input='', log='Question: Whats the current time?\\nThought: Action: get_now\\nAction Input: '), '')]}\n"
     ]
    },
    {
     "name": "stderr",
     "output_type": "stream",
     "text": [
      "/var/folders/6k/m4v5sk1n0d150v30knjkwb240000gn/T/ipykernel_14040/254441368.py:10: LangGraphDeprecationWarning: ToolInvocation is deprecated as of version 0.2.0 and will be removed in 0.3.0. Use langgraph.prebuilt.ToolNode instead.\n",
      "  action = ToolInvocation(\n"
     ]
    },
    {
     "name": "stdout",
     "output_type": "stream",
     "text": [
      "{'agent_outcome': AgentAction(tool='get_now', tool_input='%Y-%m-%d %H:%M:%S', log='Question: Whats the current time?\\nThought: Action: get_now\\nAction Input: %Y-%m-%d %H:%M:%S')}\n",
      "Called `execute_tools`\n",
      "Calling tool: get_now\n",
      "{'intermediate_steps': [(AgentAction(tool='get_now', tool_input='%Y-%m-%d %H:%M:%S', log='Question: Whats the current time?\\nThought: Action: get_now\\nAction Input: %Y-%m-%d %H:%M:%S'), '2024-12-15 13:32:31')]}\n"
     ]
    },
    {
     "name": "stderr",
     "output_type": "stream",
     "text": [
      "/var/folders/6k/m4v5sk1n0d150v30knjkwb240000gn/T/ipykernel_14040/254441368.py:10: LangGraphDeprecationWarning: ToolInvocation is deprecated as of version 0.2.0 and will be removed in 0.3.0. Use langgraph.prebuilt.ToolNode instead.\n",
      "  action = ToolInvocation(\n"
     ]
    },
    {
     "name": "stdout",
     "output_type": "stream",
     "text": [
      "{'agent_outcome': AgentAction(tool='get_now', tool_input='', log='Question: Whats the current time?\\nThought:Action: get_now\\nAction Input: ')}\n",
      "Called `execute_tools`\n",
      "Calling tool: get_now\n",
      "{'intermediate_steps': [(AgentAction(tool='get_now', tool_input='', log='Question: Whats the current time?\\nThought:Action: get_now\\nAction Input: '), '')]}\n"
     ]
    },
    {
     "name": "stderr",
     "output_type": "stream",
     "text": [
      "/var/folders/6k/m4v5sk1n0d150v30knjkwb240000gn/T/ipykernel_14040/254441368.py:10: LangGraphDeprecationWarning: ToolInvocation is deprecated as of version 0.2.0 and will be removed in 0.3.0. Use langgraph.prebuilt.ToolNode instead.\n",
      "  action = ToolInvocation(\n"
     ]
    },
    {
     "name": "stdout",
     "output_type": "stream",
     "text": [
      "{'agent_outcome': AgentAction(tool='get_now', tool_input='%Y-%m-%d %H:%M:%S', log='Question: Whats the current time?\\nThought: Action: get_now\\nAction Input: %Y-%m-%d %H:%M:%S')}\n",
      "Called `execute_tools`\n",
      "Calling tool: get_now\n",
      "{'intermediate_steps': [(AgentAction(tool='get_now', tool_input='%Y-%m-%d %H:%M:%S', log='Question: Whats the current time?\\nThought: Action: get_now\\nAction Input: %Y-%m-%d %H:%M:%S'), '2024-12-15 13:32:34')]}\n"
     ]
    },
    {
     "name": "stderr",
     "output_type": "stream",
     "text": [
      "/var/folders/6k/m4v5sk1n0d150v30knjkwb240000gn/T/ipykernel_14040/254441368.py:10: LangGraphDeprecationWarning: ToolInvocation is deprecated as of version 0.2.0 and will be removed in 0.3.0. Use langgraph.prebuilt.ToolNode instead.\n",
      "  action = ToolInvocation(\n"
     ]
    },
    {
     "name": "stdout",
     "output_type": "stream",
     "text": [
      "{'agent_outcome': AgentAction(tool='get_now', tool_input='', log='Question: Whats the current time?\\nThought: Action: get_now\\nAction Input: ')}\n",
      "Called `execute_tools`\n",
      "Calling tool: get_now\n",
      "{'intermediate_steps': [(AgentAction(tool='get_now', tool_input='', log='Question: Whats the current time?\\nThought: Action: get_now\\nAction Input: '), '')]}\n"
     ]
    },
    {
     "name": "stderr",
     "output_type": "stream",
     "text": [
      "/var/folders/6k/m4v5sk1n0d150v30knjkwb240000gn/T/ipykernel_14040/254441368.py:10: LangGraphDeprecationWarning: ToolInvocation is deprecated as of version 0.2.0 and will be removed in 0.3.0. Use langgraph.prebuilt.ToolNode instead.\n",
      "  action = ToolInvocation(\n"
     ]
    },
    {
     "name": "stdout",
     "output_type": "stream",
     "text": [
      "{'agent_outcome': AgentAction(tool='get_now', tool_input='%Y-%m-%d %H:%M:%S', log=\"I'll answer your questions in the required format.\\n\\nQuestion: Whats the current time?\\nThought: Action: get_now\\nAction Input: %Y-%m-%d %H:%M:%S\")}\n",
      "Called `execute_tools`\n",
      "Calling tool: get_now\n",
      "{'intermediate_steps': [(AgentAction(tool='get_now', tool_input='%Y-%m-%d %H:%M:%S', log=\"I'll answer your questions in the required format.\\n\\nQuestion: Whats the current time?\\nThought: Action: get_now\\nAction Input: %Y-%m-%d %H:%M:%S\"), '2024-12-15 13:32:37')]}\n"
     ]
    },
    {
     "name": "stderr",
     "output_type": "stream",
     "text": [
      "/var/folders/6k/m4v5sk1n0d150v30knjkwb240000gn/T/ipykernel_14040/254441368.py:10: LangGraphDeprecationWarning: ToolInvocation is deprecated as of version 0.2.0 and will be removed in 0.3.0. Use langgraph.prebuilt.ToolNode instead.\n",
      "  action = ToolInvocation(\n"
     ]
    },
    {
     "name": "stdout",
     "output_type": "stream",
     "text": [
      "{'agent_outcome': AgentAction(tool='get_now', tool_input='%Y-%m-%d %H:%M:%S', log='Question: Whats the current time?\\nThought: Action: get_now\\nAction Input: %Y-%m-%d %H:%M:%S')}\n",
      "Called `execute_tools`\n",
      "Calling tool: get_now\n",
      "{'intermediate_steps': [(AgentAction(tool='get_now', tool_input='%Y-%m-%d %H:%M:%S', log='Question: Whats the current time?\\nThought: Action: get_now\\nAction Input: %Y-%m-%d %H:%M:%S'), '2024-12-15 13:32:39')]}\n"
     ]
    },
    {
     "name": "stderr",
     "output_type": "stream",
     "text": [
      "/var/folders/6k/m4v5sk1n0d150v30knjkwb240000gn/T/ipykernel_14040/254441368.py:10: LangGraphDeprecationWarning: ToolInvocation is deprecated as of version 0.2.0 and will be removed in 0.3.0. Use langgraph.prebuilt.ToolNode instead.\n",
      "  action = ToolInvocation(\n"
     ]
    },
    {
     "name": "stdout",
     "output_type": "stream",
     "text": [
      "{'agent_outcome': AgentAction(tool='get_now', tool_input='%Y-%m-%d %H:%M:%S', log=\"I'll answer your questions in the required format.\\n\\nQuestion: Whats the current time?\\nThought: Action: get_now\\nAction Input: %Y-%m-%d %H:%M:%S\")}\n",
      "Called `execute_tools`\n",
      "Calling tool: get_now\n",
      "{'intermediate_steps': [(AgentAction(tool='get_now', tool_input='%Y-%m-%d %H:%M:%S', log=\"I'll answer your questions in the required format.\\n\\nQuestion: Whats the current time?\\nThought: Action: get_now\\nAction Input: %Y-%m-%d %H:%M:%S\"), '2024-12-15 13:32:41')]}\n"
     ]
    },
    {
     "name": "stderr",
     "output_type": "stream",
     "text": [
      "/var/folders/6k/m4v5sk1n0d150v30knjkwb240000gn/T/ipykernel_14040/254441368.py:10: LangGraphDeprecationWarning: ToolInvocation is deprecated as of version 0.2.0 and will be removed in 0.3.0. Use langgraph.prebuilt.ToolNode instead.\n",
      "  action = ToolInvocation(\n"
     ]
    },
    {
     "name": "stdout",
     "output_type": "stream",
     "text": [
      "{'agent_outcome': AgentAction(tool='get_now', tool_input='%Y-%m-%d %H:%M:%S', log='Question: Whats the current time?\\nThought: Action: get_now\\nAction Input: %Y-%m-%d %H:%M:%S')}\n",
      "Called `execute_tools`\n",
      "Calling tool: get_now\n",
      "{'intermediate_steps': [(AgentAction(tool='get_now', tool_input='%Y-%m-%d %H:%M:%S', log='Question: Whats the current time?\\nThought: Action: get_now\\nAction Input: %Y-%m-%d %H:%M:%S'), '2024-12-15 13:32:43')]}\n"
     ]
    },
    {
     "name": "stderr",
     "output_type": "stream",
     "text": [
      "/var/folders/6k/m4v5sk1n0d150v30knjkwb240000gn/T/ipykernel_14040/254441368.py:10: LangGraphDeprecationWarning: ToolInvocation is deprecated as of version 0.2.0 and will be removed in 0.3.0. Use langgraph.prebuilt.ToolNode instead.\n",
      "  action = ToolInvocation(\n"
     ]
    },
    {
     "name": "stdout",
     "output_type": "stream",
     "text": [
      "{'agent_outcome': AgentAction(tool='get_now', tool_input='%Y-%m-%d %H:%M:%S', log='Question: Whats the current time?\\nThought:Action: get_now\\nAction Input: %Y-%m-%d %H:%M:%S')}\n",
      "Called `execute_tools`\n",
      "Calling tool: get_now\n",
      "{'intermediate_steps': [(AgentAction(tool='get_now', tool_input='%Y-%m-%d %H:%M:%S', log='Question: Whats the current time?\\nThought:Action: get_now\\nAction Input: %Y-%m-%d %H:%M:%S'), '2024-12-15 13:32:45')]}\n"
     ]
    },
    {
     "name": "stderr",
     "output_type": "stream",
     "text": [
      "/var/folders/6k/m4v5sk1n0d150v30knjkwb240000gn/T/ipykernel_14040/254441368.py:10: LangGraphDeprecationWarning: ToolInvocation is deprecated as of version 0.2.0 and will be removed in 0.3.0. Use langgraph.prebuilt.ToolNode instead.\n",
      "  action = ToolInvocation(\n"
     ]
    },
    {
     "name": "stdout",
     "output_type": "stream",
     "text": [
      "{'agent_outcome': AgentAction(tool='get_now', tool_input='%Y-%m-%d %H:%M:%S', log='Question: Whats the current time?\\nThought: Action: get_now\\nAction Input: %Y-%m-%d %H:%M:%S')}\n",
      "Called `execute_tools`\n",
      "Calling tool: get_now\n",
      "{'intermediate_steps': [(AgentAction(tool='get_now', tool_input='%Y-%m-%d %H:%M:%S', log='Question: Whats the current time?\\nThought: Action: get_now\\nAction Input: %Y-%m-%d %H:%M:%S'), '2024-12-15 13:32:47')]}\n"
     ]
    },
    {
     "name": "stderr",
     "output_type": "stream",
     "text": [
      "/var/folders/6k/m4v5sk1n0d150v30knjkwb240000gn/T/ipykernel_14040/254441368.py:10: LangGraphDeprecationWarning: ToolInvocation is deprecated as of version 0.2.0 and will be removed in 0.3.0. Use langgraph.prebuilt.ToolNode instead.\n",
      "  action = ToolInvocation(\n"
     ]
    },
    {
     "name": "stdout",
     "output_type": "stream",
     "text": [
      "{'agent_outcome': AgentAction(tool='get_now', tool_input='%Y-%m-%d %H:%M:%S', log='Question: Whats the current time?\\nThought:Action: get_now\\nAction Input: %Y-%m-%d %H:%M:%S')}\n"
     ]
    },
    {
     "ename": "GraphRecursionError",
     "evalue": "Recursion limit of 25 reached without hitting a stop condition. You can increase the limit by setting the `recursion_limit` config key.\nFor troubleshooting, visit: https://python.langchain.com/docs/troubleshooting/errors/GRAPH_RECURSION_LIMIT",
     "output_type": "error",
     "traceback": [
      "\u001b[0;31m---------------------------------------------------------------------------\u001b[0m",
      "\u001b[0;31mGraphRecursionError\u001b[0m                       Traceback (most recent call last)",
      "Cell \u001b[0;32mIn[12], line 3\u001b[0m\n\u001b[1;32m      1\u001b[0m inputs \u001b[38;5;241m=\u001b[39m {\u001b[38;5;124m\"\u001b[39m\u001b[38;5;124minput\u001b[39m\u001b[38;5;124m\"\u001b[39m: input_text, \u001b[38;5;124m\"\u001b[39m\u001b[38;5;124mchat_history\u001b[39m\u001b[38;5;124m\"\u001b[39m: []}\n\u001b[1;32m      2\u001b[0m results \u001b[38;5;241m=\u001b[39m []\n\u001b[0;32m----> 3\u001b[0m \u001b[38;5;28;01mfor\u001b[39;00m s \u001b[38;5;129;01min\u001b[39;00m app\u001b[38;5;241m.\u001b[39mstream(inputs):\n\u001b[1;32m      4\u001b[0m     result \u001b[38;5;241m=\u001b[39m \u001b[38;5;28mlist\u001b[39m(s\u001b[38;5;241m.\u001b[39mvalues())[\u001b[38;5;241m0\u001b[39m]\n\u001b[1;32m      5\u001b[0m     results\u001b[38;5;241m.\u001b[39mappend(result)\n",
      "File \u001b[0;32m~/miniconda3/envs/llm/lib/python3.10/site-packages/langgraph/pregel/__init__.py:1676\u001b[0m, in \u001b[0;36mPregel.stream\u001b[0;34m(self, input, config, stream_mode, output_keys, interrupt_before, interrupt_after, debug, subgraphs)\u001b[0m\n\u001b[1;32m   1667\u001b[0m \u001b[38;5;28;01mif\u001b[39;00m loop\u001b[38;5;241m.\u001b[39mstatus \u001b[38;5;241m==\u001b[39m \u001b[38;5;124m\"\u001b[39m\u001b[38;5;124mout_of_steps\u001b[39m\u001b[38;5;124m\"\u001b[39m:\n\u001b[1;32m   1668\u001b[0m     msg \u001b[38;5;241m=\u001b[39m create_error_message(\n\u001b[1;32m   1669\u001b[0m         message\u001b[38;5;241m=\u001b[39m(\n\u001b[1;32m   1670\u001b[0m             \u001b[38;5;124mf\u001b[39m\u001b[38;5;124m\"\u001b[39m\u001b[38;5;124mRecursion limit of \u001b[39m\u001b[38;5;132;01m{\u001b[39;00mconfig[\u001b[38;5;124m'\u001b[39m\u001b[38;5;124mrecursion_limit\u001b[39m\u001b[38;5;124m'\u001b[39m]\u001b[38;5;132;01m}\u001b[39;00m\u001b[38;5;124m reached \u001b[39m\u001b[38;5;124m\"\u001b[39m\n\u001b[0;32m   (...)\u001b[0m\n\u001b[1;32m   1674\u001b[0m         error_code\u001b[38;5;241m=\u001b[39mErrorCode\u001b[38;5;241m.\u001b[39mGRAPH_RECURSION_LIMIT,\n\u001b[1;32m   1675\u001b[0m     )\n\u001b[0;32m-> 1676\u001b[0m     \u001b[38;5;28;01mraise\u001b[39;00m GraphRecursionError(msg)\n\u001b[1;32m   1677\u001b[0m \u001b[38;5;66;03m# set final channel values as run output\u001b[39;00m\n\u001b[1;32m   1678\u001b[0m run_manager\u001b[38;5;241m.\u001b[39mon_chain_end(loop\u001b[38;5;241m.\u001b[39moutput)\n",
      "\u001b[0;31mGraphRecursionError\u001b[0m: Recursion limit of 25 reached without hitting a stop condition. You can increase the limit by setting the `recursion_limit` config key.\nFor troubleshooting, visit: https://python.langchain.com/docs/troubleshooting/errors/GRAPH_RECURSION_LIMIT"
     ]
    }
   ],
   "source": [
    "inputs = {\"input\": input_text, \"chat_history\": []}\n",
    "results = []\n",
    "for s in app.stream(inputs):\n",
    "    result = list(s.values())[0]\n",
    "    results.append(result)\n",
    "    print(result)"
   ]
  },
  {
   "cell_type": "code",
   "execution_count": null,
   "metadata": {},
   "outputs": [],
   "source": []
  }
 ],
 "metadata": {
  "kernelspec": {
   "display_name": "llm",
   "language": "python",
   "name": "python3"
  },
  "language_info": {
   "codemirror_mode": {
    "name": "ipython",
    "version": 3
   },
   "file_extension": ".py",
   "mimetype": "text/x-python",
   "name": "python",
   "nbconvert_exporter": "python",
   "pygments_lexer": "ipython3",
   "version": "3.10.16"
  }
 },
 "nbformat": 4,
 "nbformat_minor": 2
}
